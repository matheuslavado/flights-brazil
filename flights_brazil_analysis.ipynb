{
 "cells": [
  {
   "cell_type": "code",
   "execution_count": 1,
   "metadata": {
    "ExecuteTime": {
     "end_time": "2020-05-24T19:37:47.598121Z",
     "start_time": "2020-05-24T19:37:45.946660Z"
    }
   },
   "outputs": [
    {
     "name": "stderr",
     "output_type": "stream",
     "text": [
      "C:\\Users\\Matheus\\Anaconda3\\lib\\site-packages\\statsmodels\\tools\\_testing.py:19: FutureWarning: pandas.util.testing is deprecated. Use the functions in the public API at pandas.testing instead.\n",
      "  import pandas.util.testing as tm\n"
     ]
    }
   ],
   "source": [
    "### IMPORT BIBLIOTECAS\n",
    "\n",
    "import requests\n",
    "import re\n",
    "import matplotlib\n",
    "import matplotlib.pyplot as plt\n",
    "import seaborn  as sns\n",
    "import pandas as pd\n",
    "from bs4 import BeautifulSoup\n",
    "import numpy as np\n",
    "import folium\n",
    "import json\n",
    "from tqdm.auto import tqdm\n",
    "from datetime import datetime"
   ]
  },
  {
   "cell_type": "code",
   "execution_count": 3,
   "metadata": {
    "ExecuteTime": {
     "end_time": "2020-05-24T20:35:10.295658Z",
     "start_time": "2020-05-24T20:35:04.220374Z"
    }
   },
   "outputs": [
    {
     "name": "stderr",
     "output_type": "stream",
     "text": [
      "C:\\Users\\Matheus\\Anaconda3\\lib\\site-packages\\IPython\\core\\interactiveshell.py:3051: DtypeWarning: Columns (0,23) have mixed types.Specify dtype option on import or set low_memory=False.\n",
      "  interactivity=interactivity, compiler=compiler, result=result)\n"
     ]
    },
    {
     "data": {
      "text/html": [
       "<div>\n",
       "<style scoped>\n",
       "    .dataframe tbody tr th:only-of-type {\n",
       "        vertical-align: middle;\n",
       "    }\n",
       "\n",
       "    .dataframe tbody tr th {\n",
       "        vertical-align: top;\n",
       "    }\n",
       "\n",
       "    .dataframe thead th {\n",
       "        text-align: right;\n",
       "    }\n",
       "</style>\n",
       "<table border=\"1\" class=\"dataframe\">\n",
       "  <thead>\n",
       "    <tr style=\"text-align: right;\">\n",
       "      <th></th>\n",
       "      <th>nr_voo</th>\n",
       "      <th>empresa_aerea</th>\n",
       "      <th>cd_tipo_linha</th>\n",
       "      <th>cidade_origem</th>\n",
       "      <th>cidade_destino</th>\n",
       "      <th>pais_origem</th>\n",
       "      <th>pais_destino</th>\n",
       "      <th>dt_partida_prevista</th>\n",
       "      <th>dt_partida_real</th>\n",
       "      <th>dt_chegada_prevista</th>\n",
       "      <th>...</th>\n",
       "      <th>dia_semana</th>\n",
       "      <th>mes</th>\n",
       "      <th>ano</th>\n",
       "      <th>atraso_chegada_min</th>\n",
       "      <th>atraso_partida_min</th>\n",
       "      <th>latitude_origem</th>\n",
       "      <th>latitude_destino</th>\n",
       "      <th>longitude_origem</th>\n",
       "      <th>longitude_destino</th>\n",
       "      <th>cd_di</th>\n",
       "    </tr>\n",
       "  </thead>\n",
       "  <tbody>\n",
       "    <tr>\n",
       "      <th>0</th>\n",
       "      <td>35</td>\n",
       "      <td>NaN</td>\n",
       "      <td>Internacional</td>\n",
       "      <td>PARIS</td>\n",
       "      <td>CAMPINAS</td>\n",
       "      <td>FRANCA</td>\n",
       "      <td>BRASIL</td>\n",
       "      <td>2019-01-25 06:15:00</td>\n",
       "      <td>2019-01-25 06:15:00</td>\n",
       "      <td>2019-01-25 18:15:00</td>\n",
       "      <td>...</td>\n",
       "      <td>6 - Sexta</td>\n",
       "      <td>01 - Janeiro</td>\n",
       "      <td>2019.0</td>\n",
       "      <td>0.0</td>\n",
       "      <td>0.0</td>\n",
       "      <td>48.723333</td>\n",
       "      <td>-23.007401</td>\n",
       "      <td>2.379444</td>\n",
       "      <td>-47.134499</td>\n",
       "      <td>0</td>\n",
       "    </tr>\n",
       "    <tr>\n",
       "      <th>1</th>\n",
       "      <td>35</td>\n",
       "      <td>NaN</td>\n",
       "      <td>Internacional</td>\n",
       "      <td>PARIS</td>\n",
       "      <td>CAMPINAS</td>\n",
       "      <td>FRANCA</td>\n",
       "      <td>BRASIL</td>\n",
       "      <td>2019-01-27 06:15:00</td>\n",
       "      <td>2019-01-27 06:15:00</td>\n",
       "      <td>2019-01-27 18:15:00</td>\n",
       "      <td>...</td>\n",
       "      <td>1 - Domingo</td>\n",
       "      <td>01 - Janeiro</td>\n",
       "      <td>2019.0</td>\n",
       "      <td>0.0</td>\n",
       "      <td>0.0</td>\n",
       "      <td>48.723333</td>\n",
       "      <td>-23.007401</td>\n",
       "      <td>2.379444</td>\n",
       "      <td>-47.134499</td>\n",
       "      <td>0</td>\n",
       "    </tr>\n",
       "    <tr>\n",
       "      <th>2</th>\n",
       "      <td>35</td>\n",
       "      <td>NaN</td>\n",
       "      <td>Internacional</td>\n",
       "      <td>PARIS</td>\n",
       "      <td>CAMPINAS</td>\n",
       "      <td>FRANCA</td>\n",
       "      <td>BRASIL</td>\n",
       "      <td>2019-01-29 06:15:00</td>\n",
       "      <td>2019-01-29 06:15:00</td>\n",
       "      <td>2019-01-29 18:15:00</td>\n",
       "      <td>...</td>\n",
       "      <td>3 - Terça</td>\n",
       "      <td>01 - Janeiro</td>\n",
       "      <td>2019.0</td>\n",
       "      <td>0.0</td>\n",
       "      <td>0.0</td>\n",
       "      <td>48.723333</td>\n",
       "      <td>-23.007401</td>\n",
       "      <td>2.379444</td>\n",
       "      <td>-47.134499</td>\n",
       "      <td>0</td>\n",
       "    </tr>\n",
       "    <tr>\n",
       "      <th>3</th>\n",
       "      <td>36</td>\n",
       "      <td>NaN</td>\n",
       "      <td>Internacional</td>\n",
       "      <td>CAMPINAS</td>\n",
       "      <td>PARIS</td>\n",
       "      <td>BRASIL</td>\n",
       "      <td>FRANCA</td>\n",
       "      <td>2019-01-25 20:15:00</td>\n",
       "      <td>2019-01-25 20:15:00</td>\n",
       "      <td>2019-01-26 07:45:00</td>\n",
       "      <td>...</td>\n",
       "      <td>6 - Sexta</td>\n",
       "      <td>01 - Janeiro</td>\n",
       "      <td>2019.0</td>\n",
       "      <td>0.0</td>\n",
       "      <td>0.0</td>\n",
       "      <td>-23.007401</td>\n",
       "      <td>48.723333</td>\n",
       "      <td>-47.134499</td>\n",
       "      <td>2.379444</td>\n",
       "      <td>0</td>\n",
       "    </tr>\n",
       "    <tr>\n",
       "      <th>4</th>\n",
       "      <td>36</td>\n",
       "      <td>NaN</td>\n",
       "      <td>Internacional</td>\n",
       "      <td>CAMPINAS</td>\n",
       "      <td>PARIS</td>\n",
       "      <td>BRASIL</td>\n",
       "      <td>FRANCA</td>\n",
       "      <td>2019-01-27 20:15:00</td>\n",
       "      <td>2019-01-27 20:15:00</td>\n",
       "      <td>2019-01-28 07:45:00</td>\n",
       "      <td>...</td>\n",
       "      <td>1 - Domingo</td>\n",
       "      <td>01 - Janeiro</td>\n",
       "      <td>2019.0</td>\n",
       "      <td>0.0</td>\n",
       "      <td>0.0</td>\n",
       "      <td>-23.007401</td>\n",
       "      <td>48.723333</td>\n",
       "      <td>-47.134499</td>\n",
       "      <td>2.379444</td>\n",
       "      <td>0</td>\n",
       "    </tr>\n",
       "  </tbody>\n",
       "</table>\n",
       "<p>5 rows × 24 columns</p>\n",
       "</div>"
      ],
      "text/plain": [
       "  nr_voo empresa_aerea  cd_tipo_linha cidade_origem cidade_destino  \\\n",
       "0     35           NaN  Internacional         PARIS       CAMPINAS   \n",
       "1     35           NaN  Internacional         PARIS       CAMPINAS   \n",
       "2     35           NaN  Internacional         PARIS       CAMPINAS   \n",
       "3     36           NaN  Internacional      CAMPINAS          PARIS   \n",
       "4     36           NaN  Internacional      CAMPINAS          PARIS   \n",
       "\n",
       "  pais_origem pais_destino  dt_partida_prevista      dt_partida_real  \\\n",
       "0      FRANCA       BRASIL  2019-01-25 06:15:00  2019-01-25 06:15:00   \n",
       "1      FRANCA       BRASIL  2019-01-27 06:15:00  2019-01-27 06:15:00   \n",
       "2      FRANCA       BRASIL  2019-01-29 06:15:00  2019-01-29 06:15:00   \n",
       "3      BRASIL       FRANCA  2019-01-25 20:15:00  2019-01-25 20:15:00   \n",
       "4      BRASIL       FRANCA  2019-01-27 20:15:00  2019-01-27 20:15:00   \n",
       "\n",
       "   dt_chegada_prevista  ...   dia_semana           mes     ano  \\\n",
       "0  2019-01-25 18:15:00  ...    6 - Sexta  01 - Janeiro  2019.0   \n",
       "1  2019-01-27 18:15:00  ...  1 - Domingo  01 - Janeiro  2019.0   \n",
       "2  2019-01-29 18:15:00  ...    3 - Terça  01 - Janeiro  2019.0   \n",
       "3  2019-01-26 07:45:00  ...    6 - Sexta  01 - Janeiro  2019.0   \n",
       "4  2019-01-28 07:45:00  ...  1 - Domingo  01 - Janeiro  2019.0   \n",
       "\n",
       "   atraso_chegada_min atraso_partida_min latitude_origem  latitude_destino  \\\n",
       "0                 0.0                0.0       48.723333        -23.007401   \n",
       "1                 0.0                0.0       48.723333        -23.007401   \n",
       "2                 0.0                0.0       48.723333        -23.007401   \n",
       "3                 0.0                0.0      -23.007401         48.723333   \n",
       "4                 0.0                0.0      -23.007401         48.723333   \n",
       "\n",
       "   longitude_origem  longitude_destino  cd_di  \n",
       "0          2.379444         -47.134499      0  \n",
       "1          2.379444         -47.134499      0  \n",
       "2          2.379444         -47.134499      0  \n",
       "3        -47.134499           2.379444      0  \n",
       "4        -47.134499           2.379444      0  \n",
       "\n",
       "[5 rows x 24 columns]"
      ]
     },
     "execution_count": 3,
     "metadata": {},
     "output_type": "execute_result"
    }
   ],
   "source": [
    "data = pd.read_csv('data-extraction-and-transform/flights_brazil_2019.csv', compression = 'gzip')\n",
    "data.head()"
   ]
  },
  {
   "cell_type": "markdown",
   "metadata": {},
   "source": [
    "# divisao chegada/partida\n",
    "## status voos no brasil\n",
    "• cidade com mais voos\n",
    "\n",
    "• voos por categoria\n",
    "\n",
    "• dia da semana com mais voos\n",
    "\n",
    "• dia do mes com mais voos\n",
    "\n",
    "• voos por mes\n",
    "\n",
    "\n",
    "## status atrasos de voos no brasil\n",
    "• cidade com mais atrasos\n",
    "\n",
    "• cidade com mais atrasos relativo %\n",
    "\n",
    "• atraso medio por cidade\n",
    "\n",
    "• atraso medio por mes da cidade com mais voo\n",
    "\n",
    "• atraso voos nacionais e internacionais\n",
    "\n",
    "• dia da semana com mais atrasos e atraso médio\n",
    "\n",
    "• dia do mes com mais atrasos e atraso médio\n",
    "\n",
    "• atrasos por mes\n",
    "\n",
    "• minutos de atraso por mes\n"
   ]
  },
  {
   "cell_type": "markdown",
   "metadata": {},
   "source": [
    "# Cidades com mais voos"
   ]
  },
  {
   "cell_type": "code",
   "execution_count": 28,
   "metadata": {
    "ExecuteTime": {
     "end_time": "2020-05-24T20:57:43.167360Z",
     "start_time": "2020-05-24T20:57:42.469713Z"
    }
   },
   "outputs": [
    {
     "data": {
      "image/png": "[encoded data removed]",
      "text/plain": [
       "<Figure size 1152x648 with 2 Axes>"
      ]
     },
     "metadata": {
      "needs_background": "light"
     },
     "output_type": "display_data"
    }
   ],
   "source": [
    "maissaivoo = data[['cidade_origem','dia']].groupby('cidade_origem').count().sort_values(by = 'dia', ascending = False).reset_index().head(10)\n",
    "maischegavoo = data[['cidade_destino','dia']].groupby('cidade_destino').count().sort_values(by = 'dia', ascending = False).reset_index().head(10)\n",
    "\n",
    "fig, ax = plt.subplots(1,2, figsize = (16, 9))\n",
    "fig.tight_layout(pad = 15)\n",
    "\n",
    "sns.barplot(y = 'cidade_origem', x = 'dia', data = maissaivoo, ax = ax[0])\n",
    "ax[0].set_xlabel('Voos')\n",
    "ax[0].set_ylabel('Cidade')\n",
    "ax[0].set_title('\\nCidades que mais saem voos\\n')\n",
    "\n",
    "sns.barplot(y = 'cidade_destino', x ='dia', data = maischegavoo, ax = ax[1])\n",
    "ax[1].set_xlabel('Voos')\n",
    "ax[1].set_ylabel('Cidade')\n",
    "ax[1].set_title('\\nCidades que mais chegam voos\\n');"
   ]
  },
  {
   "cell_type": "markdown",
   "metadata": {},
   "source": [
    "# Voos por categoria"
   ]
  },
  {
   "cell_type": "code",
   "execution_count": 44,
   "metadata": {
    "ExecuteTime": {
     "end_time": "2020-05-24T21:09:28.420874Z",
     "start_time": "2020-05-24T21:09:28.346347Z"
    }
   },
   "outputs": [],
   "source": [
    "# data possui uma categoria errada (\"E\"), irá ser dropada para a análise\n",
    "index = data[data['cd_tipo_linha'] == 'E'].index[0]"
   ]
  },
  {
   "cell_type": "code",
   "execution_count": 49,
   "metadata": {
    "ExecuteTime": {
     "end_time": "2020-05-24T21:15:35.069772Z",
     "start_time": "2020-05-24T21:15:34.362987Z"
    },
    "scrolled": true
   },
   "outputs": [
    {
     "data": {
      "text/html": [
       "<div>\n",
       "<style scoped>\n",
       "    .dataframe tbody tr th:only-of-type {\n",
       "        vertical-align: middle;\n",
       "    }\n",
       "\n",
       "    .dataframe tbody tr th {\n",
       "        vertical-align: top;\n",
       "    }\n",
       "\n",
       "    .dataframe thead th {\n",
       "        text-align: right;\n",
       "    }\n",
       "</style>\n",
       "<table border=\"1\" class=\"dataframe\">\n",
       "  <thead>\n",
       "    <tr style=\"text-align: right;\">\n",
       "      <th></th>\n",
       "      <th>cd_tipo_linha</th>\n",
       "      <th>dia</th>\n",
       "    </tr>\n",
       "  </thead>\n",
       "  <tbody>\n",
       "    <tr>\n",
       "      <th>0</th>\n",
       "      <td>Nacional</td>\n",
       "      <td>814384</td>\n",
       "    </tr>\n",
       "    <tr>\n",
       "      <th>1</th>\n",
       "      <td>Internacional</td>\n",
       "      <td>143343</td>\n",
       "    </tr>\n",
       "    <tr>\n",
       "      <th>2</th>\n",
       "      <td>Cargueiro internacional</td>\n",
       "      <td>17987</td>\n",
       "    </tr>\n",
       "    <tr>\n",
       "      <th>3</th>\n",
       "      <td>Cargueiro</td>\n",
       "      <td>6716</td>\n",
       "    </tr>\n",
       "    <tr>\n",
       "      <th>4</th>\n",
       "      <td>Rede postal</td>\n",
       "      <td>502</td>\n",
       "    </tr>\n",
       "    <tr>\n",
       "      <th>5</th>\n",
       "      <td>Regional</td>\n",
       "      <td>43</td>\n",
       "    </tr>\n",
       "  </tbody>\n",
       "</table>\n",
       "</div>"
      ],
      "text/plain": [
       "             cd_tipo_linha     dia\n",
       "0                 Nacional  814384\n",
       "1            Internacional  143343\n",
       "2  Cargueiro internacional   17987\n",
       "3                Cargueiro    6716\n",
       "4              Rede postal     502\n",
       "5                 Regional      43"
      ]
     },
     "metadata": {},
     "output_type": "display_data"
    },
    {
     "data": {
      "image/png": "[encoded data removed]",
      "text/plain": [
       "<Figure size 1152x648 with 1 Axes>"
      ]
     },
     "metadata": {
      "needs_background": "light"
     },
     "output_type": "display_data"
    }
   ],
   "source": [
    "conttipo = data.drop(index)[['cd_tipo_linha','dia']].groupby('cd_tipo_linha').count().sort_values(by = 'dia', ascending = False).reset_index()\n",
    "\n",
    "fig, ax = plt.subplots(figsize = (16, 9))\n",
    "\n",
    "sns.barplot(y = 'cd_tipo_linha', x = 'dia', data = conttipo, ax = ax)\n",
    "ax.set_xlabel('Voos')\n",
    "ax.set_ylabel('Tipo de linha')\n",
    "ax.set_title('\\nQuantidade de voos por categoria\\n');\n",
    "\n",
    "# neste caso será mostrado o display da tabela com intuíto de mostrar que os valroes\n",
    "# de 'rede postal' e 'regional' não são zero\n",
    "display(conttipo)"
   ]
  },
  {
   "cell_type": "markdown",
   "metadata": {},
   "source": [
    "# Dia da semana com mais voos"
   ]
  },
  {
   "cell_type": "code",
   "execution_count": 53,
   "metadata": {
    "ExecuteTime": {
     "end_time": "2020-05-24T21:19:00.149590Z",
     "start_time": "2020-05-24T21:18:59.817809Z"
    }
   },
   "outputs": [
    {
     "data": {
      "image/png": "[encoded data removed]",
      "text/plain": [
       "<Figure size 1152x648 with 1 Axes>"
      ]
     },
     "metadata": {
      "needs_background": "light"
     },
     "output_type": "display_data"
    }
   ],
   "source": [
    "partida = data[['dia_semana','dia']].groupby('dia_semana').count().reset_index()\n",
    "\n",
    "fig, ax = plt.subplots(figsize = (16, 9))\n",
    "\n",
    "sns.barplot(x = 'dia_semana', y = 'dia', data = partida, ax = ax)\n",
    "ax.set_xlabel('Dia da semana')\n",
    "ax.set_ylabel('Voos')\n",
    "ax.set_title('\\nQuantidade de voos por dia da semana\\n');\n"
   ]
  },
  {
   "cell_type": "markdown",
   "metadata": {},
   "source": [
    "# Dia do mes com mais voos"
   ]
  },
  {
   "cell_type": "code",
   "execution_count": 59,
   "metadata": {
    "ExecuteTime": {
     "end_time": "2020-05-24T21:21:34.277622Z",
     "start_time": "2020-05-24T21:21:33.774725Z"
    }
   },
   "outputs": [
    {
     "data": {
      "image/png": "[encoded data removed]",
      "text/plain": [
       "<Figure size 1152x648 with 1 Axes>"
      ]
     },
     "metadata": {
      "needs_background": "light"
     },
     "output_type": "display_data"
    }
   ],
   "source": [
    "partida = data[['dia','mes']].groupby('dia').count().reset_index()\n",
    "partida['dia'] = partida['dia'].astype('int64')\n",
    "fig, ax = plt.subplots(figsize = (16, 9))\n",
    "\n",
    "sns.barplot(x = 'dia', y = 'mes', data = partida, ax = ax)\n",
    "ax.set_xlabel('Dia do mes')\n",
    "ax.set_ylabel('Voos')\n",
    "ax.set_title('\\nQuantidade de voos por dia do mes\\n');"
   ]
  },
  {
   "cell_type": "markdown",
   "metadata": {},
   "source": [
    "# Quantidade de voos por mes"
   ]
  },
  {
   "cell_type": "code",
   "execution_count": 58,
   "metadata": {
    "ExecuteTime": {
     "end_time": "2020-05-24T21:21:30.400224Z",
     "start_time": "2020-05-24T21:21:30.018324Z"
    }
   },
   "outputs": [
    {
     "data": {
      "image/png": "[encoded data removed]",
      "text/plain": [
       "<Figure size 1152x648 with 1 Axes>"
      ]
     },
     "metadata": {
      "needs_background": "light"
     },
     "output_type": "display_data"
    }
   ],
   "source": [
    "partida = data[['mes','dia']].groupby('mes').count().reset_index()\n",
    "\n",
    "fig, ax = plt.subplots(figsize = (16, 9))\n",
    "\n",
    "sns.barplot(x = 'mes', y = 'dia', data = partida, ax = ax)\n",
    "ax.set_xlabel('Mes')\n",
    "ax.set_ylabel('Voos')\n",
    "ax.set_title('\\nQuantidade de voos por mes\\n');"
   ]
  },
  {
   "cell_type": "code",
   "execution_count": null,
   "metadata": {},
   "outputs": [],
   "source": []
  }
 ],
 "metadata": {
  "kernelspec": {
   "display_name": "Python 3",
   "language": "python",
   "name": "python3"
  },
  "language_info": {
   "codemirror_mode": {
    "name": "ipython",
    "version": 3
   },
   "file_extension": ".py",
   "mimetype": "text/x-python",
   "name": "python",
   "nbconvert_exporter": "python",
   "pygments_lexer": "ipython3",
   "version": "3.7.4"
  },
  "toc": {
   "base_numbering": 1,
   "nav_menu": {},
   "number_sections": true,
   "sideBar": true,
   "skip_h1_title": false,
   "title_cell": "Table of Contents",
   "title_sidebar": "Contents",
   "toc_cell": false,
   "toc_position": {},
   "toc_section_display": true,
   "toc_window_display": false
  },
  "varInspector": {
   "cols": {
    "lenName": 16,
    "lenType": 16,
    "lenVar": 40
   },
   "kernels_config": {
    "python": {
     "delete_cmd_postfix": "",
     "delete_cmd_prefix": "del ",
     "library": "var_list.py",
     "varRefreshCmd": "print(var_dic_list())"
    },
    "r": {
     "delete_cmd_postfix": ") ",
     "delete_cmd_prefix": "rm(",
     "library": "var_list.r",
     "varRefreshCmd": "cat(var_dic_list()) "
    }
   },
   "types_to_exclude": [
    "module",
    "function",
    "builtin_function_or_method",
    "instance",
    "_Feature"
   ],
   "window_display": false
  }
 },
 "nbformat": 4,
 "nbformat_minor": 2
}
